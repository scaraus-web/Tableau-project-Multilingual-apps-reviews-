{
 "cells": [
  {
   "cell_type": "code",
   "execution_count": 5,
   "id": "c8288043-c341-4b8e-842e-992ddd34b6a2",
   "metadata": {},
   "outputs": [],
   "source": [
    "import pandas as pd\n",
    "# df = pd.read_csv(\"flying-etiquette.csv\")\n",
    "# df = df.dropna()  # removes any row with at least one null\n",
    "# df.to_csv(r\"E:\\Documente\\CV\\Certificates\\Coursera\\Tableau\\flying-etiquette-clean.csv\", index=False)"
   ]
  },
  {
   "cell_type": "code",
   "execution_count": 15,
   "id": "dc2d3f9d-5aa2-45b4-b178-d6df9a64ebfc",
   "metadata": {},
   "outputs": [
    {
     "name": "stdout",
     "output_type": "stream",
     "text": [
      "✅ Normalized versions saved to output.csv\n"
     ]
    }
   ],
   "source": [
    "import pandas as pd\n",
    "import re\n",
    "\n",
    "# === Load CSV ===\n",
    "# Replace 'input.csv' with your actual file name\n",
    "df = pd.read_csv(\"multilingual_mobile_app_reviews_2025.csv\")\n",
    "df = df.dropna()  # removes any row with at least one null\n",
    "def normalize_version(v):\n",
    "    if pd.isna(v):\n",
    "        return None\n",
    "    \n",
    "    v = str(v).lower().strip()\n",
    "    \n",
    "    # Remove leading 'v'\n",
    "    v = re.sub(r'^v', '', v)\n",
    "    \n",
    "    # Handle suffixes like -beta, -alpha etc.\n",
    "    suffix = ''\n",
    "    match = re.match(r'([\\d\\.]+)([-a-zA-Z0-9]+)?', v)\n",
    "    if match:\n",
    "        v, extra = match.groups()\n",
    "        if extra:\n",
    "            suffix = extra\n",
    "    \n",
    "    # Split into numeric parts\n",
    "    parts = v.split(\".\")\n",
    "    \n",
    "    # Ensure at least 4 parts\n",
    "    while len(parts) < 4:\n",
    "        parts.append(\"0\")\n",
    "    \n",
    "    # Keep only first 4 numbers\n",
    "    normalized = \".\".join(parts[:4])\n",
    "    \n",
    "    # Add suffix back if any\n",
    "    return normalized + suffix\n",
    "\n",
    "# === Normalize column ===\n",
    "df[\"normalized_version\"] = df[\"app_version\"].apply(normalize_version)\n",
    "\n",
    "# === Export to new CSV ===\n",
    "df.to_csv(r\"E:\\Documente\\CV\\Certificates\\Coursera\\Tableau\\multilingual_mobile_app_reviews_2025-clean_normalized.csv\", index=False)\n",
    "\n",
    "print(\"✅ Normalized versions saved to output.csv\")\n"
   ]
  },
  {
   "cell_type": "code",
   "execution_count": null,
   "id": "e7cc47b1-bb3f-4e59-af28-c3557a7dc6ba",
   "metadata": {},
   "outputs": [],
   "source": []
  }
 ],
 "metadata": {
  "kernelspec": {
   "display_name": "Python [conda env:base] *",
   "language": "python",
   "name": "conda-base-py"
  },
  "language_info": {
   "codemirror_mode": {
    "name": "ipython",
    "version": 3
   },
   "file_extension": ".py",
   "mimetype": "text/x-python",
   "name": "python",
   "nbconvert_exporter": "python",
   "pygments_lexer": "ipython3",
   "version": "3.12.7"
  }
 },
 "nbformat": 4,
 "nbformat_minor": 5
}
